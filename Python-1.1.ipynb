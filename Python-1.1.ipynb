{
 "cells": [
  {
   "cell_type": "markdown",
   "id": "8cf44b97",
   "metadata": {},
   "source": [
    "# Right mode to contact the customers (telephone or mobile)"
   ]
  },
  {
   "cell_type": "code",
   "execution_count": 17,
   "id": "ed4a82c7",
   "metadata": {},
   "outputs": [],
   "source": [
    "import pandas as pd\n",
    "data = pd.read_csv(\"C:\\\\Users\\\\ksaisurajgupta\\\\Desktop\\\\Ai Academy\\\\Capstone Project\\\\Capstone Project1_Marketing Data\\\\Capstone Project1_Marketing Data\\\\Marketing_Campaign_P1\\\\Customer_campaign_details_p1.csv\")\n",
    "df = pd.DataFrame(data)"
   ]
  },
  {
   "cell_type": "markdown",
   "id": "798c5016",
   "metadata": {},
   "source": [
    "# Reading Data "
   ]
  },
  {
   "cell_type": "code",
   "execution_count": 18,
   "id": "db0d9613",
   "metadata": {},
   "outputs": [
    {
     "data": {
      "text/plain": [
       "cellular     23522\n",
       "telephone    13562\n",
       "Name: contact, dtype: int64"
      ]
     },
     "execution_count": 18,
     "metadata": {},
     "output_type": "execute_result"
    }
   ],
   "source": [
    "df.contact.value_counts()"
   ]
  },
  {
   "cell_type": "code",
   "execution_count": 27,
   "id": "b2b8eae2",
   "metadata": {},
   "outputs": [
    {
     "data": {
      "text/plain": [
       "(array([13562.,     0.,     0.,     0.,     0.,     0.,     0.,     0.,\n",
       "            0.,     0.,     0.,     0.,     0.,     0.,     0.,     0.,\n",
       "        23522.]),\n",
       " array([0.        , 0.05882353, 0.11764706, 0.17647059, 0.23529412,\n",
       "        0.29411765, 0.35294118, 0.41176471, 0.47058824, 0.52941176,\n",
       "        0.58823529, 0.64705882, 0.70588235, 0.76470588, 0.82352941,\n",
       "        0.88235294, 0.94117647, 1.        ]),\n",
       " <BarContainer object of 17 artists>)"
      ]
     },
     "execution_count": 27,
     "metadata": {},
     "output_type": "execute_result"
    },
    {
     "data": {
      "image/png": "[encoded data removed]",
      "text/plain": [
       "<Figure size 432x288 with 1 Axes>"
      ]
     },
     "metadata": {
      "needs_background": "light"
     },
     "output_type": "display_data"
    }
   ],
   "source": [
    "import matplotlib.pyplot as plt\n",
    "plt.hist(df.contact,bins = 'auto')"
   ]
  },
  {
   "cell_type": "code",
   "execution_count": null,
   "id": "e17a47c4",
   "metadata": {},
   "outputs": [],
   "source": []
  },
  {
   "cell_type": "code",
   "execution_count": 2,
   "id": "b998ddd4",
   "metadata": {},
   "outputs": [],
   "source": [
    "import pandas as pd"
   ]
  },
  {
   "cell_type": "code",
   "execution_count": 3,
   "id": "ff4c6f9c",
   "metadata": {},
   "outputs": [
    {
     "data": {
      "text/html": [
       "<div>\n",
       "<style scoped>\n",
       "    .dataframe tbody tr th:only-of-type {\n",
       "        vertical-align: middle;\n",
       "    }\n",
       "\n",
       "    .dataframe tbody tr th {\n",
       "        vertical-align: top;\n",
       "    }\n",
       "\n",
       "    .dataframe thead th {\n",
       "        text-align: right;\n",
       "    }\n",
       "</style>\n",
       "<table border=\"1\" class=\"dataframe\">\n",
       "  <thead>\n",
       "    <tr style=\"text-align: right;\">\n",
       "      <th></th>\n",
       "      <th>Customer_id</th>\n",
       "      <th>contact</th>\n",
       "      <th>month</th>\n",
       "      <th>day_of_week</th>\n",
       "      <th>duration</th>\n",
       "      <th>campaign</th>\n",
       "      <th>pdays</th>\n",
       "      <th>previous</th>\n",
       "      <th>poutcome</th>\n",
       "    </tr>\n",
       "  </thead>\n",
       "  <tbody>\n",
       "    <tr>\n",
       "      <th>0</th>\n",
       "      <td>1</td>\n",
       "      <td>telephone</td>\n",
       "      <td>may</td>\n",
       "      <td>mon</td>\n",
       "      <td>307</td>\n",
       "      <td>1</td>\n",
       "      <td>999</td>\n",
       "      <td>0</td>\n",
       "      <td>nonexistent</td>\n",
       "    </tr>\n",
       "    <tr>\n",
       "      <th>1</th>\n",
       "      <td>2</td>\n",
       "      <td>telephone</td>\n",
       "      <td>may</td>\n",
       "      <td>mon</td>\n",
       "      <td>198</td>\n",
       "      <td>1</td>\n",
       "      <td>999</td>\n",
       "      <td>0</td>\n",
       "      <td>nonexistent</td>\n",
       "    </tr>\n",
       "    <tr>\n",
       "      <th>2</th>\n",
       "      <td>3</td>\n",
       "      <td>telephone</td>\n",
       "      <td>may</td>\n",
       "      <td>mon</td>\n",
       "      <td>139</td>\n",
       "      <td>1</td>\n",
       "      <td>999</td>\n",
       "      <td>0</td>\n",
       "      <td>nonexistent</td>\n",
       "    </tr>\n",
       "    <tr>\n",
       "      <th>3</th>\n",
       "      <td>4</td>\n",
       "      <td>telephone</td>\n",
       "      <td>may</td>\n",
       "      <td>mon</td>\n",
       "      <td>217</td>\n",
       "      <td>1</td>\n",
       "      <td>999</td>\n",
       "      <td>0</td>\n",
       "      <td>nonexistent</td>\n",
       "    </tr>\n",
       "    <tr>\n",
       "      <th>4</th>\n",
       "      <td>5</td>\n",
       "      <td>telephone</td>\n",
       "      <td>may</td>\n",
       "      <td>mon</td>\n",
       "      <td>380</td>\n",
       "      <td>1</td>\n",
       "      <td>999</td>\n",
       "      <td>0</td>\n",
       "      <td>nonexistent</td>\n",
       "    </tr>\n",
       "  </tbody>\n",
       "</table>\n",
       "</div>"
      ],
      "text/plain": [
       "   Customer_id    contact month day_of_week  duration  campaign  pdays  \\\n",
       "0            1  telephone   may         mon       307         1    999   \n",
       "1            2  telephone   may         mon       198         1    999   \n",
       "2            3  telephone   may         mon       139         1    999   \n",
       "3            4  telephone   may         mon       217         1    999   \n",
       "4            5  telephone   may         mon       380         1    999   \n",
       "\n",
       "   previous     poutcome  \n",
       "0         0  nonexistent  \n",
       "1         0  nonexistent  \n",
       "2         0  nonexistent  \n",
       "3         0  nonexistent  \n",
       "4         0  nonexistent  "
      ]
     },
     "execution_count": 3,
     "metadata": {},
     "output_type": "execute_result"
    }
   ],
   "source": [
    "data1 = pd.read_csv(\"C:\\\\Users\\\\ksaisurajgupta\\\\Desktop\\\\Ai Academy\\\\Capstone Project\\\\Capstone Project1_Marketing Data\\\\Capstone Project1_Marketing Data\\\\Marketing_Campaign_P1\\\\Customer_campaign_details_p1.csv\")\n",
    "data1.head()"
   ]
  },
  {
   "cell_type": "markdown",
   "id": "17b9b2de",
   "metadata": {},
   "source": []
  },
  {
   "cell_type": "code",
   "execution_count": 4,
   "id": "b41ea8e8",
   "metadata": {},
   "outputs": [
    {
     "data": {
      "text/html": [
       "<div>\n",
       "<style scoped>\n",
       "    .dataframe tbody tr th:only-of-type {\n",
       "        vertical-align: middle;\n",
       "    }\n",
       "\n",
       "    .dataframe tbody tr th {\n",
       "        vertical-align: top;\n",
       "    }\n",
       "\n",
       "    .dataframe thead th {\n",
       "        text-align: right;\n",
       "    }\n",
       "</style>\n",
       "<table border=\"1\" class=\"dataframe\">\n",
       "  <thead>\n",
       "    <tr style=\"text-align: right;\">\n",
       "      <th></th>\n",
       "      <th>Customer_id</th>\n",
       "      <th>y</th>\n",
       "    </tr>\n",
       "  </thead>\n",
       "  <tbody>\n",
       "    <tr>\n",
       "      <th>0</th>\n",
       "      <td>1</td>\n",
       "      <td>no</td>\n",
       "    </tr>\n",
       "    <tr>\n",
       "      <th>1</th>\n",
       "      <td>2</td>\n",
       "      <td>no</td>\n",
       "    </tr>\n",
       "    <tr>\n",
       "      <th>2</th>\n",
       "      <td>3</td>\n",
       "      <td>no</td>\n",
       "    </tr>\n",
       "    <tr>\n",
       "      <th>3</th>\n",
       "      <td>4</td>\n",
       "      <td>no</td>\n",
       "    </tr>\n",
       "    <tr>\n",
       "      <th>4</th>\n",
       "      <td>5</td>\n",
       "      <td>no</td>\n",
       "    </tr>\n",
       "  </tbody>\n",
       "</table>\n",
       "</div>"
      ],
      "text/plain": [
       "   Customer_id   y\n",
       "0            1  no\n",
       "1            2  no\n",
       "2            3  no\n",
       "3            4  no\n",
       "4            5  no"
      ]
     },
     "execution_count": 4,
     "metadata": {},
     "output_type": "execute_result"
    }
   ],
   "source": [
    "data2 = pd.read_csv(\"C:\\\\Users\\\\ksaisurajgupta\\\\Desktop\\\\Ai Academy\\\\Capstone Project\\\\Capstone Project1_Marketing Data\\\\Capstone Project1_Marketing Data\\\\Marketing_Campaign_P1\\\\Customer_Response_data_p1.csv\")\n",
    "data2.head()"
   ]
  },
  {
   "cell_type": "code",
   "execution_count": 6,
   "id": "115476f7",
   "metadata": {},
   "outputs": [
    {
     "data": {
      "text/html": [
       "<div>\n",
       "<style scoped>\n",
       "    .dataframe tbody tr th:only-of-type {\n",
       "        vertical-align: middle;\n",
       "    }\n",
       "\n",
       "    .dataframe tbody tr th {\n",
       "        vertical-align: top;\n",
       "    }\n",
       "\n",
       "    .dataframe thead th {\n",
       "        text-align: right;\n",
       "    }\n",
       "</style>\n",
       "<table border=\"1\" class=\"dataframe\">\n",
       "  <thead>\n",
       "    <tr style=\"text-align: right;\">\n",
       "      <th></th>\n",
       "      <th>Customer_id</th>\n",
       "      <th>contact</th>\n",
       "      <th>month</th>\n",
       "      <th>day_of_week</th>\n",
       "      <th>duration</th>\n",
       "      <th>campaign</th>\n",
       "      <th>pdays</th>\n",
       "      <th>previous</th>\n",
       "      <th>poutcome</th>\n",
       "      <th>y</th>\n",
       "    </tr>\n",
       "  </thead>\n",
       "  <tbody>\n",
       "    <tr>\n",
       "      <th>0</th>\n",
       "      <td>1</td>\n",
       "      <td>telephone</td>\n",
       "      <td>may</td>\n",
       "      <td>mon</td>\n",
       "      <td>307</td>\n",
       "      <td>1</td>\n",
       "      <td>999</td>\n",
       "      <td>0</td>\n",
       "      <td>nonexistent</td>\n",
       "      <td>no</td>\n",
       "    </tr>\n",
       "    <tr>\n",
       "      <th>1</th>\n",
       "      <td>2</td>\n",
       "      <td>telephone</td>\n",
       "      <td>may</td>\n",
       "      <td>mon</td>\n",
       "      <td>198</td>\n",
       "      <td>1</td>\n",
       "      <td>999</td>\n",
       "      <td>0</td>\n",
       "      <td>nonexistent</td>\n",
       "      <td>no</td>\n",
       "    </tr>\n",
       "    <tr>\n",
       "      <th>2</th>\n",
       "      <td>3</td>\n",
       "      <td>telephone</td>\n",
       "      <td>may</td>\n",
       "      <td>mon</td>\n",
       "      <td>139</td>\n",
       "      <td>1</td>\n",
       "      <td>999</td>\n",
       "      <td>0</td>\n",
       "      <td>nonexistent</td>\n",
       "      <td>no</td>\n",
       "    </tr>\n",
       "    <tr>\n",
       "      <th>3</th>\n",
       "      <td>4</td>\n",
       "      <td>telephone</td>\n",
       "      <td>may</td>\n",
       "      <td>mon</td>\n",
       "      <td>217</td>\n",
       "      <td>1</td>\n",
       "      <td>999</td>\n",
       "      <td>0</td>\n",
       "      <td>nonexistent</td>\n",
       "      <td>no</td>\n",
       "    </tr>\n",
       "    <tr>\n",
       "      <th>4</th>\n",
       "      <td>5</td>\n",
       "      <td>telephone</td>\n",
       "      <td>may</td>\n",
       "      <td>mon</td>\n",
       "      <td>380</td>\n",
       "      <td>1</td>\n",
       "      <td>999</td>\n",
       "      <td>0</td>\n",
       "      <td>nonexistent</td>\n",
       "      <td>no</td>\n",
       "    </tr>\n",
       "  </tbody>\n",
       "</table>\n",
       "</div>"
      ],
      "text/plain": [
       "   Customer_id    contact month day_of_week  duration  campaign  pdays  \\\n",
       "0            1  telephone   may         mon       307         1    999   \n",
       "1            2  telephone   may         mon       198         1    999   \n",
       "2            3  telephone   may         mon       139         1    999   \n",
       "3            4  telephone   may         mon       217         1    999   \n",
       "4            5  telephone   may         mon       380         1    999   \n",
       "\n",
       "   previous     poutcome   y  \n",
       "0         0  nonexistent  no  \n",
       "1         0  nonexistent  no  \n",
       "2         0  nonexistent  no  \n",
       "3         0  nonexistent  no  \n",
       "4         0  nonexistent  no  "
      ]
     },
     "execution_count": 6,
     "metadata": {},
     "output_type": "execute_result"
    }
   ],
   "source": [
    "merged_data = data1.merge(data2,on=[\"Customer_id\"])\n",
    "merged_data.head()"
   ]
  },
  {
   "cell_type": "code",
   "execution_count": null,
   "id": "c190ca57",
   "metadata": {},
   "outputs": [],
   "source": [
    "merged_data .drop('day_of_week',axis='columns', inplace=True)\n"
   ]
  },
  {
   "cell_type": "code",
   "execution_count": 19,
   "id": "d55fa1ac",
   "metadata": {},
   "outputs": [
    {
     "data": {
      "text/html": [
       "<div>\n",
       "<style scoped>\n",
       "    .dataframe tbody tr th:only-of-type {\n",
       "        vertical-align: middle;\n",
       "    }\n",
       "\n",
       "    .dataframe tbody tr th {\n",
       "        vertical-align: top;\n",
       "    }\n",
       "\n",
       "    .dataframe thead th {\n",
       "        text-align: right;\n",
       "    }\n",
       "</style>\n",
       "<table border=\"1\" class=\"dataframe\">\n",
       "  <thead>\n",
       "    <tr style=\"text-align: right;\">\n",
       "      <th></th>\n",
       "      <th>Customer_id</th>\n",
       "      <th>contact</th>\n",
       "      <th>month</th>\n",
       "      <th>duration</th>\n",
       "      <th>campaign</th>\n",
       "      <th>pdays</th>\n",
       "      <th>previous</th>\n",
       "      <th>poutcome</th>\n",
       "      <th>y</th>\n",
       "    </tr>\n",
       "  </thead>\n",
       "  <tbody>\n",
       "    <tr>\n",
       "      <th>0</th>\n",
       "      <td>1</td>\n",
       "      <td>telephone</td>\n",
       "      <td>may</td>\n",
       "      <td>307</td>\n",
       "      <td>1</td>\n",
       "      <td>999</td>\n",
       "      <td>0</td>\n",
       "      <td>nonexistent</td>\n",
       "      <td>no</td>\n",
       "    </tr>\n",
       "    <tr>\n",
       "      <th>22763</th>\n",
       "      <td>22764</td>\n",
       "      <td>cellular</td>\n",
       "      <td>nov</td>\n",
       "      <td>43</td>\n",
       "      <td>2</td>\n",
       "      <td>999</td>\n",
       "      <td>0</td>\n",
       "      <td>nonexistent</td>\n",
       "      <td>no</td>\n",
       "    </tr>\n",
       "    <tr>\n",
       "      <th>22762</th>\n",
       "      <td>22763</td>\n",
       "      <td>cellular</td>\n",
       "      <td>nov</td>\n",
       "      <td>218</td>\n",
       "      <td>2</td>\n",
       "      <td>4</td>\n",
       "      <td>1</td>\n",
       "      <td>success</td>\n",
       "      <td>no</td>\n",
       "    </tr>\n",
       "    <tr>\n",
       "      <th>22761</th>\n",
       "      <td>22762</td>\n",
       "      <td>cellular</td>\n",
       "      <td>nov</td>\n",
       "      <td>244</td>\n",
       "      <td>3</td>\n",
       "      <td>999</td>\n",
       "      <td>0</td>\n",
       "      <td>nonexistent</td>\n",
       "      <td>no</td>\n",
       "    </tr>\n",
       "    <tr>\n",
       "      <th>22760</th>\n",
       "      <td>22761</td>\n",
       "      <td>cellular</td>\n",
       "      <td>nov</td>\n",
       "      <td>361</td>\n",
       "      <td>2</td>\n",
       "      <td>999</td>\n",
       "      <td>0</td>\n",
       "      <td>nonexistent</td>\n",
       "      <td>no</td>\n",
       "    </tr>\n",
       "  </tbody>\n",
       "</table>\n",
       "</div>"
      ],
      "text/plain": [
       "       Customer_id    contact month  duration  campaign  pdays  previous  \\\n",
       "0                1  telephone   may       307         1    999         0   \n",
       "22763        22764   cellular   nov        43         2    999         0   \n",
       "22762        22763   cellular   nov       218         2      4         1   \n",
       "22761        22762   cellular   nov       244         3    999         0   \n",
       "22760        22761   cellular   nov       361         2    999         0   \n",
       "\n",
       "          poutcome   y  \n",
       "0      nonexistent  no  \n",
       "22763  nonexistent  no  \n",
       "22762      success  no  \n",
       "22761  nonexistent  no  \n",
       "22760  nonexistent  no  "
      ]
     },
     "execution_count": 19,
     "metadata": {},
     "output_type": "execute_result"
    }
   ],
   "source": [
    "merged_data.head()"
   ]
  },
  {
   "cell_type": "code",
   "execution_count": 42,
   "id": "02000921",
   "metadata": {},
   "outputs": [],
   "source": [
    "New=merged_data[merged_data.y=='yes']"
   ]
  },
  {
   "cell_type": "code",
   "execution_count": 52,
   "id": "1a5354bb",
   "metadata": {},
   "outputs": [
    {
     "name": "stdout",
     "output_type": "stream",
     "text": [
      "       Customer_id    contact month  duration  campaign  pdays  previous  \\\n",
      "35206        35207   cellular   dec       205         4    999         1   \n",
      "36870        36871   cellular   oct       252         2      6         2   \n",
      "36862        36863   cellular   oct       209         3    999         1   \n",
      "35236        35237   cellular   mar       207         1    999         0   \n",
      "35284        35285   cellular   mar       292         2    999         0   \n",
      "...            ...        ...   ...       ...       ...    ...       ...   \n",
      "32636        32637   cellular   jun       295         1    999         0   \n",
      "33305        33306   cellular   jul       203         1    999         0   \n",
      "33294        33295   cellular   jul       940         1     14         1   \n",
      "14957        14958   cellular   jul       902         2    999         0   \n",
      "8844          8845  telephone   jun       878         3    999         0   \n",
      "\n",
      "          poutcome    y  \n",
      "35206      failure  yes  \n",
      "36870      success  yes  \n",
      "36862      failure  yes  \n",
      "35236  nonexistent  yes  \n",
      "35284  nonexistent  yes  \n",
      "...            ...  ...  \n",
      "32636  nonexistent  yes  \n",
      "33305  nonexistent  yes  \n",
      "33294      success  yes  \n",
      "14957  nonexistent  yes  \n",
      "8844   nonexistent  yes  \n",
      "\n",
      "[4208 rows x 9 columns]\n"
     ]
    }
   ],
   "source": [
    "print(New)"
   ]
  },
  {
   "cell_type": "code",
   "execution_count": 53,
   "id": "b71ac57b",
   "metadata": {},
   "outputs": [
    {
     "data": {
      "text/plain": [
       "campaign\n",
       "1     2090\n",
       "2     1094\n",
       "3      515\n",
       "4      235\n",
       "5      110\n",
       "6       69\n",
       "7       33\n",
       "8       14\n",
       "9       13\n",
       "10      10\n",
       "11      11\n",
       "12       3\n",
       "13       3\n",
       "14       1\n",
       "15       2\n",
       "17       4\n",
       "23       1\n",
       "dtype: int64"
      ]
     },
     "execution_count": 53,
     "metadata": {},
     "output_type": "execute_result"
    }
   ],
   "source": [
    "New.groupby('campaign').size()"
   ]
  },
  {
   "cell_type": "code",
   "execution_count": 63,
   "id": "4abf6f8e",
   "metadata": {},
   "outputs": [
    {
     "data": {
      "text/plain": [
       "(array([12.,  1.,  1.,  0.,  0.,  0.,  1.,  0.,  0.,  0.,  0.,  0.,  0.,\n",
       "         1.,  0.,  0.,  0.,  0.,  0.,  0.,  0.,  0.,  0.,  0.,  0.,  1.]),\n",
       " array([1.00000000e+00, 8.13461538e+01, 1.61692308e+02, 2.42038462e+02,\n",
       "        3.22384615e+02, 4.02730769e+02, 4.83076923e+02, 5.63423077e+02,\n",
       "        6.43769231e+02, 7.24115385e+02, 8.04461538e+02, 8.84807692e+02,\n",
       "        9.65153846e+02, 1.04550000e+03, 1.12584615e+03, 1.20619231e+03,\n",
       "        1.28653846e+03, 1.36688462e+03, 1.44723077e+03, 1.52757692e+03,\n",
       "        1.60792308e+03, 1.68826923e+03, 1.76861538e+03, 1.84896154e+03,\n",
       "        1.92930769e+03, 2.00965385e+03, 2.09000000e+03]),\n",
       " <BarContainer object of 26 artists>)"
      ]
     },
     "execution_count": 63,
     "metadata": {},
     "output_type": "execute_result"
    },
    {
     "data": {
      "image/png": "[encoded data removed]",
      "text/plain": [
       "<Figure size 432x288 with 1 Axes>"
      ]
     },
     "metadata": {
      "needs_background": "light"
     },
     "output_type": "display_data"
    }
   ],
   "source": [
    "import matplotlib.pyplot as plt\n",
    "plt.hist(New.groupby(\"campaign\").size(),bins = \"auto\")"
   ]
  },
  {
   "cell_type": "code",
   "execution_count": 65,
   "id": "80762a57",
   "metadata": {},
   "outputs": [
    {
     "data": {
      "text/plain": [
       "[<matplotlib.lines.Line2D at 0x1f7bfef2940>]"
      ]
     },
     "execution_count": 65,
     "metadata": {},
     "output_type": "execute_result"
    },
    {
     "data": {
      "image/png": "[encoded data removed]",
      "text/plain": [
       "<Figure size 432x288 with 1 Axes>"
      ]
     },
     "metadata": {
      "needs_background": "light"
     },
     "output_type": "display_data"
    }
   ],
   "source": [
    "import matplotlib.pyplot as plt\n",
    "plt.plot(New.groupby(\"campaign\").size())"
   ]
  },
  {
   "cell_type": "code",
   "execution_count": null,
   "id": "f9863d24",
   "metadata": {},
   "outputs": [],
   "source": []
  }
 ],
 "metadata": {
  "kernelspec": {
   "display_name": "Python 3 (ipykernel)",
   "language": "python",
   "name": "python3"
  },
  "language_info": {
   "codemirror_mode": {
    "name": "ipython",
    "version": 3
   },
   "file_extension": ".py",
   "mimetype": "text/x-python",
   "name": "python",
   "nbconvert_exporter": "python",
   "pygments_lexer": "ipython3",
   "version": "3.9.7"
  }
 },
 "nbformat": 4,
 "nbformat_minor": 5
}
